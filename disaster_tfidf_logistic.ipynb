{
 "cells": [
  {
   "cell_type": "code",
   "execution_count": 1,
   "metadata": {},
   "outputs": [],
   "source": [
    "import pandas as pd\n",
    "from nltk.corpus import stopwords\n",
    "from nltk.tokenize import word_tokenize\n",
    "from nltk.stem import WordNetLemmatizer\n",
    "import many_stop_words\n",
    "import re\n",
    "from wordcloud import WordCloud\n",
    "import matplotlib.pyplot as plt\n",
    "from autocorrect import Speller\n",
    "from tqdm import tqdm\n",
    "from nltk.stem import SnowballStemmer\n",
    "from sklearn.preprocessing import LabelEncoder"
   ]
  },
  {
   "cell_type": "code",
   "execution_count": 2,
   "metadata": {},
   "outputs": [],
   "source": [
    "check = Speller(lang='en')\n",
    "le = LabelEncoder()"
   ]
  },
  {
   "cell_type": "code",
   "execution_count": 3,
   "metadata": {},
   "outputs": [],
   "source": [
    "import json\n",
    "\n",
    "with open(\"normalize_mapping.json\") as normalize_json_file_obj:\n",
    "    normalize_json = json.load(normalize_json_file_obj)\n",
    "\n",
    "    "
   ]
  },
  {
   "cell_type": "code",
   "execution_count": 4,
   "metadata": {},
   "outputs": [],
   "source": [
    "train, test = pd.read_csv(\"train.csv\"), pd.read_csv(\"test.csv\")"
   ]
  },
  {
   "cell_type": "code",
   "execution_count": 5,
   "metadata": {},
   "outputs": [],
   "source": [
    "#stop_words = list(set(stopwords.words(\"english\")))\n",
    "lemmatizer = WordNetLemmatizer()\n",
    "stop_words = many_stop_words.get_stop_words(\"en\")\n",
    "sb_stemmer = SnowballStemmer(language='english')"
   ]
  },
  {
   "cell_type": "code",
   "execution_count": 6,
   "metadata": {},
   "outputs": [
    {
     "data": {
      "text/plain": [
       "0"
      ]
     },
     "execution_count": 6,
     "metadata": {},
     "output_type": "execute_result"
    }
   ],
   "source": [
    "train.duplicated().sum()"
   ]
  },
  {
   "cell_type": "code",
   "execution_count": 7,
   "metadata": {},
   "outputs": [
    {
     "data": {
      "text/plain": [
       "id             0\n",
       "keyword       61\n",
       "location    2533\n",
       "text           0\n",
       "target         0\n",
       "dtype: int64"
      ]
     },
     "execution_count": 7,
     "metadata": {},
     "output_type": "execute_result"
    }
   ],
   "source": [
    "train.isnull().sum()"
   ]
  },
  {
   "cell_type": "code",
   "execution_count": 8,
   "metadata": {},
   "outputs": [
    {
     "data": {
      "text/plain": [
       "id             0\n",
       "keyword       26\n",
       "location    1105\n",
       "text           0\n",
       "dtype: int64"
      ]
     },
     "execution_count": 8,
     "metadata": {},
     "output_type": "execute_result"
    }
   ],
   "source": [
    "test.isnull().sum()"
   ]
  },
  {
   "cell_type": "code",
   "execution_count": 9,
   "metadata": {},
   "outputs": [
    {
     "data": {
      "text/plain": [
       "set()"
      ]
     },
     "execution_count": 9,
     "metadata": {},
     "output_type": "execute_result"
    }
   ],
   "source": [
    "set(train.keyword.unique()) - set(test.keyword.unique())"
   ]
  },
  {
   "cell_type": "code",
   "execution_count": 10,
   "metadata": {},
   "outputs": [
    {
     "data": {
      "text/plain": [
       "<matplotlib.axes._subplots.AxesSubplot at 0x7f05d4c93518>"
      ]
     },
     "execution_count": 10,
     "metadata": {},
     "output_type": "execute_result"
    },
    {
     "data": {
      "image/png": "[encoded data removed]",
      "text/plain": [
       "<Figure size 432x288 with 1 Axes>"
      ]
     },
     "metadata": {
      "needs_background": "light"
     },
     "output_type": "display_data"
    }
   ],
   "source": [
    "train[(train[\"target\"] == 1)].keyword.value_counts()[0:15].plot.bar()\n"
   ]
  },
  {
   "cell_type": "code",
   "execution_count": 11,
   "metadata": {},
   "outputs": [
    {
     "data": {
      "text/plain": [
       "<matplotlib.axes._subplots.AxesSubplot at 0x7f05d4c3e9b0>"
      ]
     },
     "execution_count": 11,
     "metadata": {},
     "output_type": "execute_result"
    },
    {
     "data": {
      "image/png": "[encoded data removed]",
      "text/plain": [
       "<Figure size 432x288 with 1 Axes>"
      ]
     },
     "metadata": {
      "needs_background": "light"
     },
     "output_type": "display_data"
    }
   ],
   "source": [
    "train[(train[\"target\"] == 0)].keyword.value_counts()[0:15].plot.bar()"
   ]
  },
  {
   "cell_type": "code",
   "execution_count": 12,
   "metadata": {},
   "outputs": [],
   "source": [
    "train[\"clean_keyword\"] = [\"Not Available\" if pd.isna(each) else each for each in train[\"keyword\"]]\n",
    "test[\"clean_keyword\"] = [\"Not Available\" if pd.isna(each) else each for each in test[\"keyword\"]]"
   ]
  },
  {
   "cell_type": "code",
   "execution_count": 13,
   "metadata": {},
   "outputs": [],
   "source": [
    "train[\"encoded_clean_keyword\"] = le.fit_transform(train[\"clean_keyword\"])\n",
    "test[\"encoded_clean_keyword\"] = le.transform(test[\"clean_keyword\"])"
   ]
  },
  {
   "cell_type": "code",
   "execution_count": 14,
   "metadata": {},
   "outputs": [
    {
     "name": "stderr",
     "output_type": "stream",
     "text": [
      "100%|██████████| 7613/7613 [09:07<00:00, 13.90it/s] \n",
      "100%|██████████| 3263/3263 [04:01<00:00, 13.49it/s]\n"
     ]
    }
   ],
   "source": [
    "def clean_text(tweet_df):\n",
    "    new_tweet_list = []\n",
    "    for each_tweet in tqdm(tweet_df):\n",
    "        each_tweet = each_tweet.lower()\n",
    "        each_tweet = re.sub(r\"https?:[^\\s]+(?= |$)\", \"\", each_tweet)\n",
    "        each_tweet = re.sub(r\"@[^\\s]+\", \"\", each_tweet)\n",
    "        each_tweet = re.sub(r\"&amp;|\\||Û|û\", \"\", each_tweet)\n",
    "        each_tweet = re.sub(r\"[^a-z ]\", \"\", each_tweet)\n",
    "        twitter_slangs = r\"|\".join([\"rt\",\"tweet\"])\n",
    "        each_tweet = re.sub(twitter_slangs, \"\", each_tweet)\n",
    "        each_tweet = check(each_tweet)\n",
    "        each_tweet = \" \".join([lemmatizer.lemmatize(each_word) for each_word in each_tweet.split() if each_word not in stop_words])\n",
    "        each_tweet = \" \".join([normalize_json.get(each_word, each_word) for each_word in each_tweet.split()])\n",
    "        #each_tweet = \" \".join([sb_stemmer.stem(each_word) for each_word in word_tokenize(each_tweet) if each_word not in stop_words])\n",
    "\n",
    "        \n",
    "        new_tweet_list.append(each_tweet)\n",
    "    new_tweet_df = pd.DataFrame(new_tweet_list)\n",
    "    return new_tweet_df\n",
    "train[\"clean_text\"] = clean_text(train[\"text\"])\n",
    "test[\"clean_text\"] = clean_text(test[\"text\"])"
   ]
  },
  {
   "cell_type": "code",
   "execution_count": 15,
   "metadata": {},
   "outputs": [
    {
     "name": "stderr",
     "output_type": "stream",
     "text": [
      "100%|██████████| 7613/7613 [00:00<00:00, 7962.95it/s]\n",
      "100%|██████████| 3263/3263 [00:00<00:00, 7854.15it/s]\n"
     ]
    }
   ],
   "source": [
    "def clean_text_after(tweet_df):\n",
    "    new_tweet_list = []\n",
    "    for each_tweet in tqdm(tweet_df):\n",
    "        twitter_common_words = r\"|\".join([\"news\", \"videos\", \"time\", \"day\", \"video\"])\n",
    "        re.sub(twitter_common_words, \"\", each_tweet)\n",
    "\n",
    "        each_tweet = \" \".join([sb_stemmer.stem(each_word) for each_word in word_tokenize(each_tweet) if each_word not in stop_words])\n",
    "        new_tweet_list.append(each_tweet)\n",
    "    new_tweet_df = pd.DataFrame(new_tweet_list)\n",
    "    return new_tweet_df\n",
    "train[\"clean_text\"] = clean_text_after(train[\"clean_text\"])\n",
    "test[\"clean_text\"] = clean_text_after(test[\"clean_text\"])"
   ]
  },
  {
   "cell_type": "code",
   "execution_count": 16,
   "metadata": {},
   "outputs": [
    {
     "data": {
      "image/png": "[encoded data removed]",
      "text/plain": [
       "<Figure size 576x576 with 1 Axes>"
      ]
     },
     "metadata": {
      "needs_background": "light"
     },
     "output_type": "display_data"
    }
   ],
   "source": [
    "full_data = \" \".join(train[\"clean_text\"])\n",
    "wordcloud = WordCloud(width = 2000, height = 2000,\n",
    "                      background_color='white',\n",
    "                min_font_size = 10).generate(full_data) \n",
    "  \n",
    "# plot the WordCloud image                        \n",
    "plt.figure(figsize = (8, 8), facecolor = None) \n",
    "plt.imshow(wordcloud) \n",
    "plt.axis(\"off\") \n",
    "plt.tight_layout(pad = 0) \n",
    "  \n",
    "plt.show() "
   ]
  },
  {
   "cell_type": "code",
   "execution_count": 153,
   "metadata": {},
   "outputs": [
    {
     "data": {
      "text/plain": [
       "0    4342\n",
       "1    3271\n",
       "Name: target, dtype: int64"
      ]
     },
     "execution_count": 153,
     "metadata": {},
     "output_type": "execute_result"
    }
   ],
   "source": [
    "train[\"target\"].value_counts()"
   ]
  },
  {
   "cell_type": "code",
   "execution_count": null,
   "metadata": {},
   "outputs": [],
   "source": []
  },
  {
   "cell_type": "code",
   "execution_count": 112,
   "metadata": {},
   "outputs": [],
   "source": [
    "from sklearn.model_selection import train_test_split\n",
    "x_train_df, x_val_df, y_train, y_val = train_test_split(train, train[\"target\"], test_size=0.1)"
   ]
  },
  {
   "cell_type": "code",
   "execution_count": 113,
   "metadata": {},
   "outputs": [],
   "source": [
    "x_train, x_val, x_test = x_train_df[\"clean_text\"], x_val_df[\"clean_text\"], test[\"clean_text\"]"
   ]
  },
  {
   "cell_type": "code",
   "execution_count": 114,
   "metadata": {},
   "outputs": [],
   "source": [
    "x_train_key, x_val_key, x_test_key = x_train_df[\"encoded_clean_keyword\"], x_val_df[\"encoded_clean_keyword\"], test[\"encoded_clean_keyword\"]"
   ]
  },
  {
   "cell_type": "code",
   "execution_count": 115,
   "metadata": {},
   "outputs": [],
   "source": [
    "from sklearn.feature_extraction.text import TfidfVectorizer\n",
    "tfidf = TfidfVectorizer(min_df=2, ngram_range=(1, 4))\n",
    "train_tfidf = tfidf.fit_transform(x_train)"
   ]
  },
  {
   "cell_type": "code",
   "execution_count": 116,
   "metadata": {},
   "outputs": [],
   "source": [
    "val_tfidf = tfidf.transform(x_val)"
   ]
  },
  {
   "cell_type": "code",
   "execution_count": 117,
   "metadata": {},
   "outputs": [],
   "source": [
    "test_tfidf = tfidf.transform(x_test)"
   ]
  },
  {
   "cell_type": "code",
   "execution_count": 118,
   "metadata": {},
   "outputs": [
    {
     "data": {
      "text/plain": [
       "6851"
      ]
     },
     "execution_count": 118,
     "metadata": {},
     "output_type": "execute_result"
    }
   ],
   "source": [
    "len(train_tfidf.todense())"
   ]
  },
  {
   "cell_type": "code",
   "execution_count": 119,
   "metadata": {},
   "outputs": [],
   "source": [
    "train_encoded_clean_keyword = x_train_key.to_numpy()\n",
    "val_encoded_clean_keyword = x_val_key.to_numpy()\n",
    "test_encoded_clean_keyword = x_test_key.to_numpy()"
   ]
  },
  {
   "cell_type": "code",
   "execution_count": 120,
   "metadata": {},
   "outputs": [
    {
     "data": {
      "text/plain": [
       "((6851,), (6851, 11973))"
      ]
     },
     "execution_count": 120,
     "metadata": {},
     "output_type": "execute_result"
    }
   ],
   "source": [
    "x_train_key.shape, train_tfidf.toarray().shape"
   ]
  },
  {
   "cell_type": "code",
   "execution_count": 121,
   "metadata": {},
   "outputs": [],
   "source": [
    "import numpy as np"
   ]
  },
  {
   "cell_type": "code",
   "execution_count": 122,
   "metadata": {},
   "outputs": [],
   "source": [
    "x_train_tfidf_key = np.array([np.append(tfidf_array, encoded_keyword) for tfidf_array, encoded_keyword in zip(train_tfidf.toarray(), train_encoded_clean_keyword)])\n",
    "x_val_tfidf_key = np.array([np.append(tfidf_array, encoded_keyword) for tfidf_array, encoded_keyword in zip(val_tfidf.toarray(), val_encoded_clean_keyword)])\n",
    "x_test_tfidf_key = np.array([np.append(tfidf_array, encoded_keyword) for tfidf_array, encoded_keyword in zip(test_tfidf.toarray(), test_encoded_clean_keyword)])"
   ]
  },
  {
   "cell_type": "code",
   "execution_count": 123,
   "metadata": {},
   "outputs": [],
   "source": [
    "train_encoded_clean_keyword_ind = np.array([np.array([each]) for each in train_encoded_clean_keyword])\n",
    "val_encoded_clean_keyword_ind = np.array([np.array([each]) for each in val_encoded_clean_keyword])\n",
    "test_encoded_clean_keyword_ind = np.array([np.array([each]) for each in test_encoded_clean_keyword])"
   ]
  },
  {
   "cell_type": "code",
   "execution_count": 124,
   "metadata": {},
   "outputs": [
    {
     "name": "stdout",
     "output_type": "stream",
     "text": [
      "0.8569551890235002\n",
      "0.7900262467191601\n"
     ]
    }
   ],
   "source": [
    "from sklearn.linear_model import LogisticRegression\n",
    "logistic_regression_1 = LogisticRegression(C=0.5, solver=\"sag\")\n",
    "logistic_regression_1.fit(train_tfidf, y_train)\n",
    "print(logistic_regression_1.score(train_tfidf, y_train))\n",
    "print(logistic_regression_1.score(val_tfidf, y_val))"
   ]
  },
  {
   "cell_type": "code",
   "execution_count": 125,
   "metadata": {},
   "outputs": [
    {
     "name": "stderr",
     "output_type": "stream",
     "text": [
      "/home/utkarsh/projects/python3.6/lib/python3.6/site-packages/sklearn/linear_model/sag.py:337: ConvergenceWarning: The max_iter was reached which means the coef_ did not converge\n",
      "  \"the coef_ did not converge\", ConvergenceWarning)\n"
     ]
    },
    {
     "data": {
      "text/plain": [
       "0.536745406824147"
      ]
     },
     "execution_count": 125,
     "metadata": {},
     "output_type": "execute_result"
    }
   ],
   "source": [
    "logistic_regression_2 = LogisticRegression(C=0.5, solver=\"sag\")\n",
    "logistic_regression_2.fit(train_encoded_clean_keyword_ind, y_train)\n",
    "logistic_regression_2.score(val_encoded_clean_keyword_ind, y_val)"
   ]
  },
  {
   "cell_type": "code",
   "execution_count": 126,
   "metadata": {},
   "outputs": [
    {
     "name": "stdout",
     "output_type": "stream",
     "text": [
      "0.7558020726901182\n",
      "0.6732283464566929\n"
     ]
    }
   ],
   "source": [
    "from sklearn.neighbors import KNeighborsClassifier\n",
    "knn_clf = KNeighborsClassifier(n_neighbors=2)\n",
    "knn_clf.fit(train_tfidf, y_train)\n",
    "print(knn_clf.score(train_tfidf, y_train))\n",
    "print(knn_clf.score(val_tfidf, y_val))"
   ]
  },
  {
   "cell_type": "code",
   "execution_count": 127,
   "metadata": {},
   "outputs": [],
   "source": [
    "from sklearn.tree import DecisionTreeClassifier\n",
    "decision_tree_clf = DecisionTreeClassifier()"
   ]
  },
  {
   "cell_type": "code",
   "execution_count": 128,
   "metadata": {},
   "outputs": [
    {
     "data": {
      "text/plain": [
       "DecisionTreeClassifier(class_weight=None, criterion='gini', max_depth=None,\n",
       "                       max_features=None, max_leaf_nodes=None,\n",
       "                       min_impurity_decrease=0.0, min_impurity_split=None,\n",
       "                       min_samples_leaf=1, min_samples_split=2,\n",
       "                       min_weight_fraction_leaf=0.0, presort=False,\n",
       "                       random_state=None, splitter='best')"
      ]
     },
     "execution_count": 128,
     "metadata": {},
     "output_type": "execute_result"
    }
   ],
   "source": [
    "decision_tree_clf.fit(train_encoded_clean_keyword_ind, y_train)"
   ]
  },
  {
   "cell_type": "code",
   "execution_count": 129,
   "metadata": {},
   "outputs": [
    {
     "data": {
      "text/plain": [
       "0.7479200116771274"
      ]
     },
     "execution_count": 129,
     "metadata": {},
     "output_type": "execute_result"
    }
   ],
   "source": [
    "decision_tree_clf.score(train_encoded_clean_keyword_ind, y_train)"
   ]
  },
  {
   "cell_type": "code",
   "execution_count": 130,
   "metadata": {},
   "outputs": [
    {
     "data": {
      "text/plain": [
       "0.7204724409448819"
      ]
     },
     "execution_count": 130,
     "metadata": {},
     "output_type": "execute_result"
    }
   ],
   "source": [
    "decision_tree_clf.score(val_encoded_clean_keyword_ind, y_val)"
   ]
  },
  {
   "cell_type": "code",
   "execution_count": 131,
   "metadata": {},
   "outputs": [],
   "source": [
    "pred_result_logistic_1 = logistic_regression_1.predict_proba(val_tfidf)\n",
    "pred_result_dt = decision_tree_clf.predict_proba(val_encoded_clean_keyword_ind)"
   ]
  },
  {
   "cell_type": "code",
   "execution_count": 132,
   "metadata": {},
   "outputs": [],
   "source": [
    "ensamble_result = pred_result_logistic_1 * 0.75 + pred_result_dt * 0.25\n",
    "ensamble_result = np.argmax(ensamble_result, axis=1)"
   ]
  },
  {
   "cell_type": "code",
   "execution_count": 133,
   "metadata": {},
   "outputs": [],
   "source": [
    "prediction = logistic_regression_1.predict(val_tfidf)"
   ]
  },
  {
   "cell_type": "code",
   "execution_count": 172,
   "metadata": {},
   "outputs": [
    {
     "data": {
      "text/plain": [
       "array([[0.64704764, 0.35295236],\n",
       "       [0.57563657, 0.42436343],\n",
       "       [0.71766697, 0.28233303],\n",
       "       ...,\n",
       "       [0.29064888, 0.70935112],\n",
       "       [0.72842825, 0.27157175],\n",
       "       [0.69447027, 0.30552973]])"
      ]
     },
     "execution_count": 172,
     "metadata": {},
     "output_type": "execute_result"
    }
   ],
   "source": [
    "pred_result_logistic_1"
   ]
  },
  {
   "cell_type": "code",
   "execution_count": 254,
   "metadata": {},
   "outputs": [
    {
     "name": "stdout",
     "output_type": "stream",
     "text": [
      "0.2099737532808399\n"
     ]
    },
    {
     "data": {
      "text/plain": [
       "array([1, 1, 1, 0, 1, 0, 1, 0, 1, 1, 1, 1, 1, 0, 0, 1, 1, 1, 1, 1, 1, 1,\n",
       "       0, 1, 0, 1, 0, 0, 0, 0, 0, 1, 0, 0, 1, 0, 0, 1, 1, 1, 1, 1, 1, 0,\n",
       "       0, 1, 0, 0, 1, 0, 1, 1, 1, 1, 1, 0, 1, 0, 1, 1, 1, 0, 1, 0, 0, 1,\n",
       "       1, 1, 0, 1, 1, 1, 1, 1, 1, 1, 0, 1, 1, 1, 1, 1, 0, 1, 0, 1, 1, 1,\n",
       "       1, 1, 1, 1, 1, 1, 1, 0, 1, 1, 0, 1, 1, 1, 1, 1, 1, 1, 0, 1, 0, 1,\n",
       "       1, 0, 1, 1, 0, 1, 1, 1, 1, 0, 0, 1, 0, 0, 1, 1, 0, 0, 1, 0, 1, 1,\n",
       "       1, 1, 1, 1, 1, 1, 1, 1, 1, 1, 0, 1, 0, 1, 1, 1, 0, 1, 0, 0, 0, 1,\n",
       "       1, 0, 0, 1, 1, 1, 1, 1, 0, 1, 1, 0, 1, 0, 1, 0, 1, 0, 1, 0, 0, 0,\n",
       "       1, 1, 0, 1, 1, 1, 1, 1, 1, 0, 1, 0, 0, 1, 1, 1, 1, 1, 1, 1, 1, 1,\n",
       "       1, 1, 1, 1, 1, 1, 1, 0, 1, 1, 1, 1, 1, 1, 0, 1, 1, 0, 0, 1, 1, 0,\n",
       "       1, 0, 1, 1, 0, 0, 1, 1, 0, 0, 1, 1, 1, 1, 1, 0, 1, 1, 0, 0, 1, 0,\n",
       "       1, 0, 1, 1, 1, 0, 1, 1, 1, 0, 1, 0, 1, 1, 0, 1, 1, 0, 0, 1, 1, 1,\n",
       "       0, 1, 1, 1, 0, 0, 1, 0, 1, 0, 1, 0, 0, 0, 1, 1, 1, 0, 0, 1, 1, 1,\n",
       "       1, 1, 1, 1, 1, 0, 1, 0, 0, 0, 1, 0, 1, 0, 0, 1, 0, 0, 1, 1, 1, 0,\n",
       "       0, 1, 1, 1, 1, 1, 1, 0, 1, 1, 0, 0, 1, 1, 0, 1, 1, 1, 1, 1, 1, 1,\n",
       "       0, 1, 1, 0, 1, 1, 1, 0, 1, 1, 1, 1, 1, 1, 1, 1, 0, 1, 0, 1, 1, 0,\n",
       "       0, 0, 0, 1, 0, 1, 1, 0, 1, 1, 1, 0, 0, 1, 0, 0, 1, 0, 0, 0, 1, 1,\n",
       "       1, 1, 0, 1, 0, 1, 1, 1, 1, 0, 1, 1, 1, 1, 0, 1, 1, 1, 0, 1, 1, 0,\n",
       "       0, 0, 1, 1, 0, 0, 0, 1, 0, 1, 1, 1, 0, 0, 1, 0, 1, 1, 1, 1, 0, 1,\n",
       "       1, 1, 1, 1, 0, 1, 0, 1, 0, 1, 1, 1, 1, 0, 0, 0, 0, 1, 1, 0, 1, 1,\n",
       "       1, 1, 1, 1, 1, 1, 0, 1, 1, 1, 1, 0, 0, 1, 1, 1, 1, 1, 0, 1, 1, 0,\n",
       "       1, 0, 1, 0, 1, 1, 0, 1, 1, 1, 1, 0, 1, 1, 0, 0, 0, 1, 1, 0, 1, 0,\n",
       "       0, 0, 0, 0, 0, 1, 0, 0, 1, 0, 1, 1, 1, 0, 1, 1, 0, 1, 1, 1, 1, 1,\n",
       "       1, 1, 1, 0, 1, 0, 0, 0, 0, 1, 1, 1, 0, 0, 1, 0, 0, 1, 0, 1, 1, 1,\n",
       "       1, 0, 1, 1, 0, 0, 1, 0, 0, 1, 1, 1, 1, 0, 1, 1, 1, 1, 1, 1, 0, 1,\n",
       "       1, 1, 1, 1, 1, 1, 1, 1, 1, 1, 1, 1, 1, 0, 0, 1, 1, 1, 1, 1, 1, 1,\n",
       "       0, 1, 0, 1, 0, 1, 1, 1, 1, 0, 1, 1, 0, 0, 1, 1, 0, 0, 1, 0, 1, 0,\n",
       "       1, 1, 1, 1, 0, 1, 1, 0, 0, 1, 1, 0, 1, 1, 0, 1, 0, 0, 1, 1, 1, 0,\n",
       "       0, 1, 0, 1, 0, 1, 1, 0, 0, 0, 0, 0, 0, 1, 1, 1, 1, 1, 0, 1, 0, 1,\n",
       "       1, 1, 0, 1, 1, 0, 0, 1, 1, 1, 0, 0, 1, 1, 0, 1, 1, 0, 0, 1, 1, 1,\n",
       "       1, 0, 0, 1, 1, 1, 0, 1, 0, 1, 0, 1, 1, 1, 0, 1, 1, 0, 0, 1, 0, 0,\n",
       "       1, 1, 0, 1, 1, 1, 0, 1, 1, 1, 1, 1, 1, 1, 1, 0, 1, 1, 0, 0, 1, 1,\n",
       "       0, 1, 0, 0, 1, 1, 1, 1, 1, 1, 1, 1, 0, 1, 0, 1, 0, 1, 1, 1, 1, 0,\n",
       "       1, 0, 0, 0, 1, 1, 1, 1, 1, 1, 1, 1, 1, 1, 1, 0, 1, 1, 0, 1, 0, 1,\n",
       "       1, 1, 1, 1, 1, 1, 0, 1, 1, 1, 1, 0, 1, 1])"
      ]
     },
     "execution_count": 254,
     "metadata": {},
     "output_type": "execute_result"
    }
   ],
   "source": [
    "def check_accuracy(pre_results, original_result=[], threshold=0.5):\n",
    "    if not list(original_result):\n",
    "        original_result = np.full((len(pre_results)), 0)\n",
    "    output_list = []\n",
    "    count = 0\n",
    "    for each_pre_result, each_org_result in zip(pre_results, original_result):\n",
    "        if each_pre_result[0] > threshold:\n",
    "            output = 0\n",
    "        else:\n",
    "            output = 1\n",
    "        if each_org_result == output:\n",
    "            count += 1\n",
    "        output_list.append(output)\n",
    "    print(count/len(pre_results))\n",
    "    return np.array(output_list)\n",
    "check_accuracy(pred_result_logistic_1, y_val, threshold=0.55)\n"
   ]
  },
  {
   "cell_type": "code",
   "execution_count": 160,
   "metadata": {},
   "outputs": [],
   "source": [
    "wrong_result = [(sent, each_pre, prob[1]) for index, sent, each_pre, each_or, prob in zip(range(1,len(x_val) + 1), x_val, prediction, y_val, pred_result_logistic_1) if each_pre != each_or]"
   ]
  },
  {
   "cell_type": "code",
   "execution_count": 161,
   "metadata": {},
   "outputs": [],
   "source": [
    "wrong_result = pd.DataFrame(wrong_result, columns=[\"Sentence\", \"Wrong Label\", \"Score\"])\n",
    "wrong_result.to_csv(\"wrong_result.csv\", index=False)"
   ]
  },
  {
   "cell_type": "code",
   "execution_count": 171,
   "metadata": {},
   "outputs": [
    {
     "data": {
      "text/plain": [
       "<matplotlib.axes._subplots.AxesSubplot at 0x7f6e6a004c50>"
      ]
     },
     "execution_count": 171,
     "metadata": {},
     "output_type": "execute_result"
    },
    {
     "data": {
      "image/png": "[encoded data removed]",
      "text/plain": [
       "<Figure size 432x288 with 1 Axes>"
      ]
     },
     "metadata": {
      "needs_background": "light"
     },
     "output_type": "display_data"
    }
   ],
   "source": [
    "wrong_result[(wrong_result[\"Wrong Label\"] == 0)][\"Score\"].plot.hist(bins=5)"
   ]
  },
  {
   "cell_type": "code",
   "execution_count": null,
   "metadata": {},
   "outputs": [],
   "source": []
  },
  {
   "cell_type": "code",
   "execution_count": 137,
   "metadata": {},
   "outputs": [],
   "source": [
    "from sklearn.metrics import classification_report"
   ]
  },
  {
   "cell_type": "code",
   "execution_count": 138,
   "metadata": {},
   "outputs": [
    {
     "name": "stdout",
     "output_type": "stream",
     "text": [
      "              precision    recall  f1-score   support\n",
      "\n",
      "           0       0.75      0.92      0.82       409\n",
      "           1       0.87      0.64      0.74       353\n",
      "\n",
      "    accuracy                           0.79       762\n",
      "   macro avg       0.81      0.78      0.78       762\n",
      "weighted avg       0.80      0.79      0.78       762\n",
      "\n"
     ]
    }
   ],
   "source": [
    "print(classification_report(y_val, prediction))"
   ]
  },
  {
   "cell_type": "code",
   "execution_count": 139,
   "metadata": {},
   "outputs": [],
   "source": [
    "prediction_result = logistic_regression_1.predict(test_tfidf)"
   ]
  },
  {
   "cell_type": "code",
   "execution_count": null,
   "metadata": {},
   "outputs": [],
   "source": []
  },
  {
   "cell_type": "code",
   "execution_count": 49,
   "metadata": {},
   "outputs": [],
   "source": [
    "prediction_result_1 = logistic_regression_1.predict_proba(test_tfidf)"
   ]
  },
  {
   "cell_type": "code",
   "execution_count": 201,
   "metadata": {},
   "outputs": [
    {
     "name": "stdout",
     "output_type": "stream",
     "text": [
      "0.6365307998774135\n"
     ]
    }
   ],
   "source": [
    "prediction_result = check_accuracy(prediction_result_1, threshold=0.53)"
   ]
  },
  {
   "cell_type": "code",
   "execution_count": 50,
   "metadata": {},
   "outputs": [],
   "source": [
    "prediction_result_2 = decision_tree_clf.predict_proba(test_encoded_clean_keyword_ind)"
   ]
  },
  {
   "cell_type": "code",
   "execution_count": 51,
   "metadata": {},
   "outputs": [
    {
     "data": {
      "text/plain": [
       "array([[0.26415094, 0.73584906],\n",
       "       [0.26415094, 0.73584906],\n",
       "       [0.26415094, 0.73584906],\n",
       "       ...,\n",
       "       [0.26415094, 0.73584906],\n",
       "       [0.26415094, 0.73584906],\n",
       "       [0.26415094, 0.73584906]])"
      ]
     },
     "execution_count": 51,
     "metadata": {},
     "output_type": "execute_result"
    }
   ],
   "source": [
    "prediction_result_2"
   ]
  },
  {
   "cell_type": "code",
   "execution_count": 52,
   "metadata": {},
   "outputs": [],
   "source": [
    "prediction_result = prediction_result_1 * 0.8 + prediction_result_2 * 0.2\n",
    "prediction_result = np.amax(prediction_result, axis=1)"
   ]
  },
  {
   "cell_type": "code",
   "execution_count": 202,
   "metadata": {},
   "outputs": [],
   "source": [
    "output_result = pd.DataFrame()"
   ]
  },
  {
   "cell_type": "code",
   "execution_count": 141,
   "metadata": {},
   "outputs": [],
   "source": [
    "test_ids_df = pd.DataFrame(test[\"id\"])"
   ]
  },
  {
   "cell_type": "code",
   "execution_count": 203,
   "metadata": {},
   "outputs": [],
   "source": [
    "output_result[\"target\"] = prediction_result"
   ]
  },
  {
   "cell_type": "code",
   "execution_count": 204,
   "metadata": {},
   "outputs": [
    {
     "data": {
      "text/plain": [
       "(3263, 3263)"
      ]
     },
     "execution_count": 204,
     "metadata": {},
     "output_type": "execute_result"
    }
   ],
   "source": [
    "len(output_result), len(test_ids_df)"
   ]
  },
  {
   "cell_type": "code",
   "execution_count": 205,
   "metadata": {},
   "outputs": [],
   "source": [
    "output = pd.concat([test_ids_df.reset_index(drop=True),output_result.reset_index(drop=True)], axis=1)"
   ]
  },
  {
   "cell_type": "code",
   "execution_count": 206,
   "metadata": {},
   "outputs": [
    {
     "data": {
      "text/plain": [
       "0           0\n",
       "1           2\n",
       "2           3\n",
       "3           9\n",
       "4          11\n",
       "        ...  \n",
       "3258    10861\n",
       "3259    10865\n",
       "3260    10868\n",
       "3261    10874\n",
       "3262    10875\n",
       "Name: id, Length: 3263, dtype: int64"
      ]
     },
     "execution_count": 206,
     "metadata": {},
     "output_type": "execute_result"
    }
   ],
   "source": [
    "output[\"id\"]"
   ]
  },
  {
   "cell_type": "code",
   "execution_count": 207,
   "metadata": {},
   "outputs": [],
   "source": [
    "output.to_csv(\"submisson.csv\", index=False)"
   ]
  },
  {
   "cell_type": "code",
   "execution_count": 215,
   "metadata": {},
   "outputs": [],
   "source": [
    "pred_result_logistic_1 = pred_result_logistic_1[:, 1]"
   ]
  },
  {
   "cell_type": "code",
   "execution_count": 216,
   "metadata": {},
   "outputs": [
    {
     "data": {
      "text/plain": [
       "array([0.35295236, 0.42436343, 0.28233303, 0.7107087 , 0.33907476,\n",
       "       0.66454626, 0.217409  , 0.50861543, 0.38786182, 0.23961204,\n",
       "       0.17105955, 0.40464011, 0.48694498, 0.52983383, 0.6845841 ,\n",
       "       0.17036633, 0.4003464 , 0.19327997, 0.22370134, 0.35974286,\n",
       "       0.48152029, 0.49129973, 0.52805312, 0.47808515, 0.81221953,\n",
       "       0.35926613, 0.5088177 , 0.66739139, 0.61012397, 0.61910269,\n",
       "       0.50034697, 0.45390098, 0.55620928, 0.51761796, 0.38125458,\n",
       "       0.82062825, 0.52537544, 0.34620331, 0.28556735, 0.23048922,\n",
       "       0.33990615, 0.36351037, 0.29740064, 0.53722724, 0.60713217,\n",
       "       0.21419828, 0.6543142 , 0.6690713 , 0.18130772, 0.58592829,\n",
       "       0.2586957 , 0.43654237, 0.23833288, 0.37212625, 0.37356722,\n",
       "       0.65965422, 0.38755197, 0.69151084, 0.35691837, 0.36342474,\n",
       "       0.29940648, 0.62244134, 0.44347353, 0.54367893, 0.63066227,\n",
       "       0.3232643 , 0.23298772, 0.43156376, 0.88532332, 0.44247432,\n",
       "       0.34750991, 0.29214396, 0.21375519, 0.20196909, 0.37283374,\n",
       "       0.25176296, 0.78371656, 0.28122382, 0.48399852, 0.35310743,\n",
       "       0.33451314, 0.34580851, 0.5272729 , 0.3124018 , 0.55535367,\n",
       "       0.31643238, 0.3025335 , 0.32847377, 0.34487649, 0.38289274,\n",
       "       0.31387102, 0.27890758, 0.27901174, 0.26671342, 0.47257293,\n",
       "       0.52897551, 0.48561703, 0.35923822, 0.56927885, 0.189823  ,\n",
       "       0.33106493, 0.34005875, 0.39543396, 0.4213452 , 0.23766547,\n",
       "       0.39575045, 0.69806588, 0.42108979, 0.55198965, 0.47217874,\n",
       "       0.30942483, 0.54034667, 0.23860785, 0.34531264, 0.51212751,\n",
       "       0.24794702, 0.29677718, 0.2335741 , 0.38947846, 0.64432483,\n",
       "       0.57570259, 0.3406964 , 0.56916663, 0.68842865, 0.20134675,\n",
       "       0.180421  , 0.63511899, 0.8122728 , 0.36373929, 0.64513466,\n",
       "       0.23313093, 0.26057083, 0.42981877, 0.20395026, 0.3336696 ,\n",
       "       0.20204261, 0.26291468, 0.2613503 , 0.26918983, 0.27781744,\n",
       "       0.37774078, 0.34419847, 0.72645412, 0.25011122, 0.6840137 ,\n",
       "       0.35320778, 0.1374658 , 0.42229412, 0.56130981, 0.4841578 ,\n",
       "       0.64300757, 0.59701994, 0.69391883, 0.28149879, 0.20936901,\n",
       "       0.56417535, 0.67774986, 0.39320924, 0.42971513, 0.31702206,\n",
       "       0.35844344, 0.26511017, 0.76231879, 0.28140615, 0.44028635,\n",
       "       0.5100595 , 0.35637418, 0.64107951, 0.2675552 , 0.66142832,\n",
       "       0.39429013, 0.63656052, 0.26095872, 0.52241208, 0.64487843,\n",
       "       0.63271383, 0.15080085, 0.15121996, 0.78082424, 0.24343625,\n",
       "       0.24970773, 0.30555116, 0.22780463, 0.37510854, 0.25031071,\n",
       "       0.69171977, 0.18098194, 0.53852357, 0.66539041, 0.2448823 ,\n",
       "       0.34553868, 0.13877386, 0.13346995, 0.21669256, 0.28490061,\n",
       "       0.30303376, 0.46392699, 0.27436763, 0.43369096, 0.21412278,\n",
       "       0.29942176, 0.35371904, 0.41929966, 0.2045096 , 0.25417436,\n",
       "       0.5105172 , 0.13276409, 0.28135051, 0.32874561, 0.24211447,\n",
       "       0.35535363, 0.43149943, 0.55260449, 0.28911821, 0.15115653,\n",
       "       0.59374015, 0.54633239, 0.46285589, 0.15500274, 0.78199031,\n",
       "       0.4445022 , 0.68314137, 0.29676303, 0.25011122, 0.87017901,\n",
       "       0.72802775, 0.2659463 , 0.21323835, 0.88532332, 0.78371656,\n",
       "       0.19125992, 0.3307139 , 0.34800593, 0.42628455, 0.2766699 ,\n",
       "       0.54232729, 0.2234878 , 0.41636443, 0.58872559, 0.50327266,\n",
       "       0.28514817, 0.74606047, 0.31585113, 0.52053038, 0.36385909,\n",
       "       0.39247532, 0.25376375, 0.63419973, 0.2996606 , 0.22784075,\n",
       "       0.35576959, 0.72802775, 0.36846541, 0.69202775, 0.19902645,\n",
       "       0.38206435, 0.54012269, 0.18393455, 0.23646593, 0.64481041,\n",
       "       0.66957352, 0.30099704, 0.26615787, 0.22207853, 0.63565667,\n",
       "       0.16815484, 0.33071864, 0.27231991, 0.84411243, 0.65215064,\n",
       "       0.36080631, 0.76438751, 0.24200732, 0.76231879, 0.35612182,\n",
       "       0.72439094, 0.79037277, 0.6162248 , 0.2964761 , 0.27866426,\n",
       "       0.34334453, 0.64323388, 0.71355259, 0.23857808, 0.35377446,\n",
       "       0.31967134, 0.39831591, 0.36342563, 0.40111048, 0.40407127,\n",
       "       0.46335469, 0.70566383, 0.29795071, 0.80598392, 0.52002851,\n",
       "       0.79276105, 0.19560401, 0.52002754, 0.38913613, 0.69863487,\n",
       "       0.57884109, 0.2694289 , 0.52127999, 0.57088065, 0.276815  ,\n",
       "       0.46044928, 0.41304717, 0.66024105, 0.70690193, 0.41265701,\n",
       "       0.30477379, 0.31524565, 0.26054868, 0.47638078, 0.47313197,\n",
       "       0.56094862, 0.20453058, 0.3410708 , 0.54082962, 0.55318478,\n",
       "       0.29853041, 0.46514981, 0.50676385, 0.31702206, 0.22974523,\n",
       "       0.37405519, 0.34747925, 0.46569647, 0.18810391, 0.25543046,\n",
       "       0.52735677, 0.40012378, 0.4052384 , 0.51673901, 0.34967127,\n",
       "       0.21556481, 0.47199338, 0.54804738, 0.36677406, 0.40366443,\n",
       "       0.26945344, 0.31080794, 0.46546692, 0.34609699, 0.41608614,\n",
       "       0.19229311, 0.78911776, 0.15808509, 0.76563212, 0.42240984,\n",
       "       0.37455021, 0.61378197, 0.5106716 , 0.55426739, 0.88640402,\n",
       "       0.35742128, 0.81091247, 0.28892297, 0.39615355, 0.64965329,\n",
       "       0.21723664, 0.39898393, 0.2607133 , 0.63994793, 0.64127509,\n",
       "       0.46471681, 0.55448028, 0.50294287, 0.35246126, 0.5284977 ,\n",
       "       0.57414629, 0.60302569, 0.33873116, 0.49686127, 0.34405388,\n",
       "       0.43355767, 0.68771477, 0.26551399, 0.51164426, 0.19525493,\n",
       "       0.27384116, 0.28973443, 0.28758249, 0.60225094, 0.38975155,\n",
       "       0.43119402, 0.18821526, 0.4002832 , 0.84053471, 0.40553313,\n",
       "       0.37563587, 0.35900474, 0.57044285, 0.39161987, 0.28791891,\n",
       "       0.61116406, 0.65825785, 0.72856375, 0.24853269, 0.41392063,\n",
       "       0.52567955, 0.71959234, 0.69278604, 0.34620331, 0.88640402,\n",
       "       0.26535015, 0.25176296, 0.43874568, 0.52581681, 0.6720778 ,\n",
       "       0.21577763, 0.87017901, 0.48543683, 0.49818039, 0.20632817,\n",
       "       0.28003558, 0.51689987, 0.37588708, 0.37105547, 0.35629285,\n",
       "       0.18780882, 0.27316528, 0.62982874, 0.3782476 , 0.68646457,\n",
       "       0.31538697, 0.55671949, 0.45647991, 0.21242359, 0.46623506,\n",
       "       0.38202392, 0.55564286, 0.50421929, 0.6002603 , 0.51429899,\n",
       "       0.33720291, 0.47663901, 0.70309685, 0.35290448, 0.29523845,\n",
       "       0.46217854, 0.37005875, 0.3419643 , 0.4263021 , 0.35158891,\n",
       "       0.33345285, 0.84526342, 0.39778457, 0.32412248, 0.30469449,\n",
       "       0.41779404, 0.51933818, 0.70647601, 0.32895469, 0.27619302,\n",
       "       0.41161475, 0.27863966, 0.48327873, 0.61873669, 0.36242603,\n",
       "       0.48763965, 0.61133069, 0.44506965, 0.70050036, 0.22493626,\n",
       "       0.52466588, 0.33733564, 0.45362244, 0.54157404, 0.15311661,\n",
       "       0.21453466, 0.175581  , 0.30749393, 0.72308076, 0.28780731,\n",
       "       0.46131571, 0.84737182, 0.53841793, 0.6043048 , 0.41692728,\n",
       "       0.36451715, 0.64188126, 0.23798935, 0.5496506 , 0.76360912,\n",
       "       0.53377658, 0.82743969, 0.80461245, 0.59182344, 0.22999313,\n",
       "       0.62996162, 0.55670952, 0.27434025, 0.67498797, 0.24399961,\n",
       "       0.26111404, 0.24306517, 0.52281301, 0.31076591, 0.46508498,\n",
       "       0.63511899, 0.27739801, 0.27226992, 0.25961467, 0.41611765,\n",
       "       0.30996273, 0.15344989, 0.42388464, 0.42115693, 0.7091491 ,\n",
       "       0.32214216, 0.69402941, 0.6341101 , 0.74936959, 0.64405649,\n",
       "       0.4653965 , 0.34340244, 0.43406728, 0.85214677, 0.60967552,\n",
       "       0.48445995, 0.81534169, 0.54132086, 0.31758598, 0.53787882,\n",
       "       0.33728134, 0.43179619, 0.37589705, 0.38000046, 0.78371656,\n",
       "       0.28329202, 0.42621386, 0.70586972, 0.6260138 , 0.10235911,\n",
       "       0.67741531, 0.5634669 , 0.24454579, 0.33415773, 0.28214116,\n",
       "       0.30188825, 0.67713289, 0.31747896, 0.39590684, 0.31393145,\n",
       "       0.41304717, 0.46540241, 0.30721251, 0.63683638, 0.43495997,\n",
       "       0.47623135, 0.24650932, 0.35588447, 0.33297724, 0.29824774,\n",
       "       0.31080794, 0.38913613, 0.32140893, 0.19094675, 0.34682889,\n",
       "       0.25695099, 0.33908919, 0.27526154, 0.55962646, 0.59475835,\n",
       "       0.24749071, 0.29169771, 0.26470661, 0.42628455, 0.18625613,\n",
       "       0.33027443, 0.31080794, 0.56008499, 0.47217556, 0.65256707,\n",
       "       0.46688644, 0.81746351, 0.23812203, 0.28315508, 0.29684014,\n",
       "       0.42273712, 0.78371656, 0.44221314, 0.34584151, 0.75015687,\n",
       "       0.8235338 , 0.25356499, 0.46057508, 0.76148722, 0.68917131,\n",
       "       0.49598331, 0.64299858, 0.35234415, 0.67879433, 0.24775064,\n",
       "       0.49132257, 0.24125919, 0.22252419, 0.81091247, 0.41783319,\n",
       "       0.36387325, 0.54809412, 0.61021948, 0.30827838, 0.2607133 ,\n",
       "       0.70534413, 0.46907113, 0.30393133, 0.67939597, 0.28892297,\n",
       "       0.74251953, 0.55976256, 0.43613057, 0.32199505, 0.41995809,\n",
       "       0.70230762, 0.56414609, 0.21702965, 0.84079401, 0.45704489,\n",
       "       0.81091247, 0.43810987, 0.32766433, 0.69367693, 0.81560951,\n",
       "       0.84053471, 0.6078793 , 0.68443538, 0.60496797, 0.31295999,\n",
       "       0.21216693, 0.1809857 , 0.46680021, 0.26054868, 0.81466424,\n",
       "       0.36413581, 0.63876165, 0.20630833, 0.20216341, 0.12339105,\n",
       "       0.68135756, 0.35984578, 0.19891255, 0.55529873, 0.56916663,\n",
       "       0.22004489, 0.29121869, 0.46171169, 0.69653656, 0.8235338 ,\n",
       "       0.39360944, 0.35364987, 0.78034817, 0.47558022, 0.26150768,\n",
       "       0.54932741, 0.84746735, 0.18899201, 0.25288563, 0.33357535,\n",
       "       0.34317403, 0.8122728 , 0.74249636, 0.3695484 , 0.34880329,\n",
       "       0.25359484, 0.70956742, 0.39745803, 0.79546148, 0.39859741,\n",
       "       0.54211457, 0.42697116, 0.25011122, 0.27722709, 0.67250741,\n",
       "       0.2925576 , 0.39010228, 0.67935664, 0.55042302, 0.36382235,\n",
       "       0.69305404, 0.51246562, 0.23567091, 0.34581425, 0.56916663,\n",
       "       0.08569777, 0.36568538, 0.35428842, 0.58266339, 0.17596701,\n",
       "       0.26772094, 0.33245851, 0.4523696 , 0.45638347, 0.42268052,\n",
       "       0.27929581, 0.31016943, 0.84053471, 0.49921487, 0.24562316,\n",
       "       0.73940507, 0.79434102, 0.27781744, 0.33175716, 0.89551583,\n",
       "       0.30384497, 0.77461091, 0.69011051, 0.28544872, 0.36791001,\n",
       "       0.25087255, 0.26288489, 0.36900001, 0.38913613, 0.33286257,\n",
       "       0.20495605, 0.64031979, 0.32633517, 0.56114604, 0.28944882,\n",
       "       0.64228318, 0.24895149, 0.29304353, 0.16080246, 0.35616606,\n",
       "       0.61545092, 0.3105019 , 0.51174997, 0.63994793, 0.52723679,\n",
       "       0.12816029, 0.29109633, 0.48081993, 0.38945145, 0.26241158,\n",
       "       0.46171974, 0.29204701, 0.40158279, 0.2045096 , 0.21764475,\n",
       "       0.31608936, 0.51108523, 0.38913613, 0.22593583, 0.8609591 ,\n",
       "       0.32800545, 0.5783664 , 0.3106894 , 0.2045096 , 0.29502185,\n",
       "       0.26455975, 0.41290242, 0.16375011, 0.3540453 , 0.83810717,\n",
       "       0.40127287, 0.48184729, 0.31252212, 0.44252264, 0.70935112,\n",
       "       0.27157175, 0.30552973])"
      ]
     },
     "execution_count": 216,
     "metadata": {},
     "output_type": "execute_result"
    }
   ],
   "source": [
    "pred_result_logistic_1"
   ]
  },
  {
   "cell_type": "code",
   "execution_count": 240,
   "metadata": {},
   "outputs": [
    {
     "name": "stdout",
     "output_type": "stream",
     "text": [
      "Area Under the Curve :  0.8594512976443618\n"
     ]
    },
    {
     "data": {
      "image/png": "[encoded data removed]",
      "text/plain": [
       "<Figure size 432x288 with 1 Axes>"
      ]
     },
     "metadata": {
      "needs_background": "light"
     },
     "output_type": "display_data"
    }
   ],
   "source": [
    "from sklearn.metrics import roc_curve\n",
    "from sklearn.metrics import roc_auc_score\n",
    "lr_auc = roc_auc_score(y_val, pred_result_logistic_1)\n",
    "lr_fpr, lr_tpr, threshold  = roc_curve(y_val, pred_result_logistic_1)\n",
    "print(\"Area Under the Curve : \", lr_auc)\n",
    "pyplot.plot(lr_fpr[125:135], lr_tpr[125:135], marker='.', label='Logistic')\n",
    "pyplot.xlabel('False Positive Rate')\n",
    "pyplot.ylabel('True Positive Rate')\n",
    "# show the legend\n",
    "pyplot.legend()\n",
    "# show the plot\n",
    "pyplot.show()"
   ]
  },
  {
   "cell_type": "code",
   "execution_count": 239,
   "metadata": {},
   "outputs": [
    {
     "data": {
      "text/plain": [
       "(array([0]),)"
      ]
     },
     "execution_count": 239,
     "metadata": {},
     "output_type": "execute_result"
    }
   ],
   "source": [
    "np.where(0.8045325779036827)"
   ]
  },
  {
   "cell_type": "code",
   "execution_count": 250,
   "metadata": {},
   "outputs": [
    {
     "data": {
      "text/plain": [
       "0.3894784590245262"
      ]
     },
     "execution_count": 250,
     "metadata": {},
     "output_type": "execute_result"
    }
   ],
   "source": [
    "threshold[130]"
   ]
  },
  {
   "cell_type": "code",
   "execution_count": 241,
   "metadata": {},
   "outputs": [
    {
     "data": {
      "text/plain": [
       "(0.8045325779036827, 0.2616136919315403)"
      ]
     },
     "execution_count": 241,
     "metadata": {},
     "output_type": "execute_result"
    }
   ],
   "source": [
    "lr_tpr[130], lr_fpr[130]"
   ]
  },
  {
   "cell_type": "code",
   "execution_count": null,
   "metadata": {},
   "outputs": [],
   "source": []
  }
 ],
 "metadata": {
  "kernelspec": {
   "display_name": "Python 3",
   "language": "python",
   "name": "python3"
  },
  "language_info": {
   "codemirror_mode": {
    "name": "ipython",
    "version": 3
   },
   "file_extension": ".py",
   "mimetype": "text/x-python",
   "name": "python",
   "nbconvert_exporter": "python",
   "pygments_lexer": "ipython3",
   "version": "3.6.7"
  }
 },
 "nbformat": 4,
 "nbformat_minor": 2
}
